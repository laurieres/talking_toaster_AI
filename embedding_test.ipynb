{
 "cells": [
  {
   "cell_type": "code",
   "execution_count": 1,
   "id": "0b4fa31b",
   "metadata": {
    "ExecuteTime": {
     "end_time": "2023-11-30T15:51:03.150358Z",
     "start_time": "2023-11-30T15:51:02.202507Z"
    }
   },
   "outputs": [
    {
     "ename": "TypeError",
     "evalue": "issubclass() arg 1 must be a class",
     "output_type": "error",
     "traceback": [
      "\u001b[0;31m---------------------------------------------------------------------------\u001b[0m",
      "\u001b[0;31mTypeError\u001b[0m                                 Traceback (most recent call last)",
      "Cell \u001b[0;32mIn [1], line 1\u001b[0m\n\u001b[0;32m----> 1\u001b[0m \u001b[38;5;28;01mfrom\u001b[39;00m \u001b[38;5;21;01membedding\u001b[39;00m \u001b[38;5;28;01mimport\u001b[39;00m embed_and_vectorize_pdf, communicate_with_man\n",
      "File \u001b[0;32m~/code/laurieres/talking_toaster_AI/embedding.py:1\u001b[0m\n\u001b[0;32m----> 1\u001b[0m \u001b[38;5;28;01mfrom\u001b[39;00m \u001b[38;5;21;01mlangchain\u001b[39;00m\u001b[38;5;21;01m.\u001b[39;00m\u001b[38;5;21;01mdocument_loaders\u001b[39;00m \u001b[38;5;28;01mimport\u001b[39;00m PyPDFLoader\n\u001b[1;32m      2\u001b[0m \u001b[38;5;28;01mfrom\u001b[39;00m \u001b[38;5;21;01mlangchain\u001b[39;00m\u001b[38;5;21;01m.\u001b[39;00m\u001b[38;5;21;01mtext_splitter\u001b[39;00m \u001b[38;5;28;01mimport\u001b[39;00m RecursiveCharacterTextSplitter\n\u001b[1;32m      3\u001b[0m \u001b[38;5;28;01mfrom\u001b[39;00m \u001b[38;5;21;01mlangchain\u001b[39;00m\u001b[38;5;21;01m.\u001b[39;00m\u001b[38;5;21;01mvectorstores\u001b[39;00m \u001b[38;5;28;01mimport\u001b[39;00m Chroma\n",
      "File \u001b[0;32m~/.pyenv/versions/3.10.6/envs/talking_toaster_AI/lib/python3.10/site-packages/langchain/document_loaders/__init__.py:77\u001b[0m\n\u001b[1;32m     72\u001b[0m \u001b[38;5;28;01mfrom\u001b[39;00m \u001b[38;5;21;01mlangchain\u001b[39;00m\u001b[38;5;21;01m.\u001b[39;00m\u001b[38;5;21;01mdocument_loaders\u001b[39;00m\u001b[38;5;21;01m.\u001b[39;00m\u001b[38;5;21;01mduckdb_loader\u001b[39;00m \u001b[38;5;28;01mimport\u001b[39;00m DuckDBLoader\n\u001b[1;32m     73\u001b[0m \u001b[38;5;28;01mfrom\u001b[39;00m \u001b[38;5;21;01mlangchain\u001b[39;00m\u001b[38;5;21;01m.\u001b[39;00m\u001b[38;5;21;01mdocument_loaders\u001b[39;00m\u001b[38;5;21;01m.\u001b[39;00m\u001b[38;5;21;01memail\u001b[39;00m \u001b[38;5;28;01mimport\u001b[39;00m (\n\u001b[1;32m     74\u001b[0m     OutlookMessageLoader,\n\u001b[1;32m     75\u001b[0m     UnstructuredEmailLoader,\n\u001b[1;32m     76\u001b[0m )\n\u001b[0;32m---> 77\u001b[0m \u001b[38;5;28;01mfrom\u001b[39;00m \u001b[38;5;21;01mlangchain\u001b[39;00m\u001b[38;5;21;01m.\u001b[39;00m\u001b[38;5;21;01mdocument_loaders\u001b[39;00m\u001b[38;5;21;01m.\u001b[39;00m\u001b[38;5;21;01membaas\u001b[39;00m \u001b[38;5;28;01mimport\u001b[39;00m EmbaasBlobLoader, EmbaasLoader\n\u001b[1;32m     78\u001b[0m \u001b[38;5;28;01mfrom\u001b[39;00m \u001b[38;5;21;01mlangchain\u001b[39;00m\u001b[38;5;21;01m.\u001b[39;00m\u001b[38;5;21;01mdocument_loaders\u001b[39;00m\u001b[38;5;21;01m.\u001b[39;00m\u001b[38;5;21;01mepub\u001b[39;00m \u001b[38;5;28;01mimport\u001b[39;00m UnstructuredEPubLoader\n\u001b[1;32m     79\u001b[0m \u001b[38;5;28;01mfrom\u001b[39;00m \u001b[38;5;21;01mlangchain\u001b[39;00m\u001b[38;5;21;01m.\u001b[39;00m\u001b[38;5;21;01mdocument_loaders\u001b[39;00m\u001b[38;5;21;01m.\u001b[39;00m\u001b[38;5;21;01metherscan\u001b[39;00m \u001b[38;5;28;01mimport\u001b[39;00m EtherscanLoader\n",
      "File \u001b[0;32m~/.pyenv/versions/3.10.6/envs/talking_toaster_AI/lib/python3.10/site-packages/langchain/document_loaders/embaas.py:54\u001b[0m\n\u001b[1;32m     50\u001b[0m     \u001b[38;5;28mbytes\u001b[39m: \u001b[38;5;28mstr\u001b[39m\n\u001b[1;32m     51\u001b[0m     \u001b[38;5;124;03m\"\"\"The base64 encoded bytes of the document to extract text from.\"\"\"\u001b[39;00m\n\u001b[0;32m---> 54\u001b[0m \u001b[38;5;28;01mclass\u001b[39;00m \u001b[38;5;21;01mBaseEmbaasLoader\u001b[39;00m(BaseModel):\n\u001b[1;32m     55\u001b[0m     \u001b[38;5;124;03m\"\"\"Base loader for `Embaas` document extraction API.\"\"\"\u001b[39;00m\n\u001b[1;32m     57\u001b[0m     embaas_api_key: Optional[\u001b[38;5;28mstr\u001b[39m] \u001b[38;5;241m=\u001b[39m \u001b[38;5;28;01mNone\u001b[39;00m\n",
      "File \u001b[0;32m~/.pyenv/versions/3.10.6/envs/talking_toaster_AI/lib/python3.10/site-packages/pydantic/main.py:205\u001b[0m, in \u001b[0;36mpydantic.main.ModelMetaclass.__new__\u001b[0;34m()\u001b[0m\n",
      "File \u001b[0;32m~/.pyenv/versions/3.10.6/envs/talking_toaster_AI/lib/python3.10/site-packages/pydantic/fields.py:491\u001b[0m, in \u001b[0;36mpydantic.fields.ModelField.infer\u001b[0;34m()\u001b[0m\n",
      "File \u001b[0;32m~/.pyenv/versions/3.10.6/envs/talking_toaster_AI/lib/python3.10/site-packages/pydantic/fields.py:421\u001b[0m, in \u001b[0;36mpydantic.fields.ModelField.__init__\u001b[0;34m()\u001b[0m\n",
      "File \u001b[0;32m~/.pyenv/versions/3.10.6/envs/talking_toaster_AI/lib/python3.10/site-packages/pydantic/fields.py:542\u001b[0m, in \u001b[0;36mpydantic.fields.ModelField.prepare\u001b[0;34m()\u001b[0m\n",
      "File \u001b[0;32m~/.pyenv/versions/3.10.6/envs/talking_toaster_AI/lib/python3.10/site-packages/pydantic/fields.py:804\u001b[0m, in \u001b[0;36mpydantic.fields.ModelField.populate_validators\u001b[0;34m()\u001b[0m\n",
      "File \u001b[0;32m~/.pyenv/versions/3.10.6/envs/talking_toaster_AI/lib/python3.10/site-packages/pydantic/validators.py:696\u001b[0m, in \u001b[0;36mfind_validators\u001b[0;34m()\u001b[0m\n",
      "File \u001b[0;32m~/.pyenv/versions/3.10.6/envs/talking_toaster_AI/lib/python3.10/site-packages/pydantic/validators.py:585\u001b[0m, in \u001b[0;36mpydantic.validators.make_typeddict_validator\u001b[0;34m()\u001b[0m\n",
      "File \u001b[0;32m~/.pyenv/versions/3.10.6/envs/talking_toaster_AI/lib/python3.10/site-packages/pydantic/annotated_types.py:35\u001b[0m, in \u001b[0;36mpydantic.annotated_types.create_model_from_typeddict\u001b[0;34m()\u001b[0m\n",
      "File \u001b[0;32m~/.pyenv/versions/3.10.6/envs/talking_toaster_AI/lib/python3.10/site-packages/pydantic/main.py:1006\u001b[0m, in \u001b[0;36mpydantic.main.create_model\u001b[0;34m()\u001b[0m\n",
      "File \u001b[0;32m~/.pyenv/versions/3.10.6/envs/talking_toaster_AI/lib/python3.10/site-packages/pydantic/main.py:205\u001b[0m, in \u001b[0;36mpydantic.main.ModelMetaclass.__new__\u001b[0;34m()\u001b[0m\n",
      "File \u001b[0;32m~/.pyenv/versions/3.10.6/envs/talking_toaster_AI/lib/python3.10/site-packages/pydantic/fields.py:491\u001b[0m, in \u001b[0;36mpydantic.fields.ModelField.infer\u001b[0;34m()\u001b[0m\n",
      "File \u001b[0;32m~/.pyenv/versions/3.10.6/envs/talking_toaster_AI/lib/python3.10/site-packages/pydantic/fields.py:421\u001b[0m, in \u001b[0;36mpydantic.fields.ModelField.__init__\u001b[0;34m()\u001b[0m\n",
      "File \u001b[0;32m~/.pyenv/versions/3.10.6/envs/talking_toaster_AI/lib/python3.10/site-packages/pydantic/fields.py:537\u001b[0m, in \u001b[0;36mpydantic.fields.ModelField.prepare\u001b[0;34m()\u001b[0m\n",
      "File \u001b[0;32m~/.pyenv/versions/3.10.6/envs/talking_toaster_AI/lib/python3.10/site-packages/pydantic/fields.py:641\u001b[0m, in \u001b[0;36mpydantic.fields.ModelField._type_analysis\u001b[0;34m()\u001b[0m\n",
      "File \u001b[0;32m~/.pyenv/versions/3.10.6/lib/python3.10/typing.py:1158\u001b[0m, in \u001b[0;36m_SpecialGenericAlias.__subclasscheck__\u001b[0;34m(self, cls)\u001b[0m\n\u001b[1;32m   1156\u001b[0m     \u001b[38;5;28;01mreturn\u001b[39;00m \u001b[38;5;28missubclass\u001b[39m(\u001b[38;5;28mcls\u001b[39m\u001b[38;5;241m.\u001b[39m__origin__, \u001b[38;5;28mself\u001b[39m\u001b[38;5;241m.\u001b[39m__origin__)\n\u001b[1;32m   1157\u001b[0m \u001b[38;5;28;01mif\u001b[39;00m \u001b[38;5;129;01mnot\u001b[39;00m \u001b[38;5;28misinstance\u001b[39m(\u001b[38;5;28mcls\u001b[39m, _GenericAlias):\n\u001b[0;32m-> 1158\u001b[0m     \u001b[38;5;28;01mreturn\u001b[39;00m \u001b[38;5;28;43missubclass\u001b[39;49m\u001b[43m(\u001b[49m\u001b[38;5;28;43mcls\u001b[39;49m\u001b[43m,\u001b[49m\u001b[43m \u001b[49m\u001b[38;5;28;43mself\u001b[39;49m\u001b[38;5;241;43m.\u001b[39;49m\u001b[43m__origin__\u001b[49m\u001b[43m)\u001b[49m\n\u001b[1;32m   1159\u001b[0m \u001b[38;5;28;01mreturn\u001b[39;00m \u001b[38;5;28msuper\u001b[39m()\u001b[38;5;241m.\u001b[39m\u001b[38;5;21m__subclasscheck__\u001b[39m(\u001b[38;5;28mcls\u001b[39m)\n",
      "\u001b[0;31mTypeError\u001b[0m: issubclass() arg 1 must be a class"
     ]
    }
   ],
   "source": [
    "from embedding import embed_and_vectorize_pdf, communicate_with_man"
   ]
  },
  {
   "cell_type": "code",
   "execution_count": 2,
   "id": "86146bd4",
   "metadata": {
    "ExecuteTime": {
     "end_time": "2023-11-30T15:57:05.153195Z",
     "start_time": "2023-11-30T15:56:57.903981Z"
    }
   },
   "outputs": [
    {
     "name": "stdout",
     "output_type": "stream",
     "text": [
      "Requirement already satisfied: langchain in /Users/louisaurieres/.pyenv/versions/3.10.6/envs/talking_toaster_AI/lib/python3.10/site-packages (0.0.343)\n",
      "Requirement already satisfied: PyYAML>=5.3 in /Users/louisaurieres/.pyenv/versions/3.10.6/envs/talking_toaster_AI/lib/python3.10/site-packages (from langchain) (6.0.1)\n",
      "Requirement already satisfied: SQLAlchemy<3,>=1.4 in /Users/louisaurieres/.pyenv/versions/3.10.6/envs/talking_toaster_AI/lib/python3.10/site-packages (from langchain) (2.0.21)\n",
      "Requirement already satisfied: aiohttp<4.0.0,>=3.8.3 in /Users/louisaurieres/.pyenv/versions/3.10.6/envs/talking_toaster_AI/lib/python3.10/site-packages (from langchain) (3.9.1)\n",
      "Requirement already satisfied: anyio<4.0 in /Users/louisaurieres/.pyenv/versions/3.10.6/envs/talking_toaster_AI/lib/python3.10/site-packages (from langchain) (3.7.1)\n",
      "Requirement already satisfied: async-timeout<5.0.0,>=4.0.0 in /Users/louisaurieres/.pyenv/versions/3.10.6/envs/talking_toaster_AI/lib/python3.10/site-packages (from langchain) (4.0.3)\n",
      "Requirement already satisfied: dataclasses-json<0.7,>=0.5.7 in /Users/louisaurieres/.pyenv/versions/3.10.6/envs/talking_toaster_AI/lib/python3.10/site-packages (from langchain) (0.6.3)\n",
      "Requirement already satisfied: jsonpatch<2.0,>=1.33 in /Users/louisaurieres/.pyenv/versions/3.10.6/envs/talking_toaster_AI/lib/python3.10/site-packages (from langchain) (1.33)\n",
      "Requirement already satisfied: langchain-core<0.1,>=0.0.7 in /Users/louisaurieres/.pyenv/versions/3.10.6/envs/talking_toaster_AI/lib/python3.10/site-packages (from langchain) (0.0.7)\n",
      "Requirement already satisfied: langsmith<0.1.0,>=0.0.63 in /Users/louisaurieres/.pyenv/versions/3.10.6/envs/talking_toaster_AI/lib/python3.10/site-packages (from langchain) (0.0.67)\n",
      "Requirement already satisfied: numpy<2,>=1 in /Users/louisaurieres/.pyenv/versions/3.10.6/envs/talking_toaster_AI/lib/python3.10/site-packages (from langchain) (1.23.4)\n",
      "Requirement already satisfied: pydantic<3,>=1 in /Users/louisaurieres/.pyenv/versions/3.10.6/envs/talking_toaster_AI/lib/python3.10/site-packages (from langchain) (1.9.2)\n",
      "Requirement already satisfied: requests<3,>=2 in /Users/louisaurieres/.pyenv/versions/3.10.6/envs/talking_toaster_AI/lib/python3.10/site-packages (from langchain) (2.28.1)\n",
      "Requirement already satisfied: tenacity<9.0.0,>=8.1.0 in /Users/louisaurieres/.pyenv/versions/3.10.6/envs/talking_toaster_AI/lib/python3.10/site-packages (from langchain) (8.2.3)\n",
      "Requirement already satisfied: attrs>=17.3.0 in /Users/louisaurieres/.pyenv/versions/3.10.6/envs/talking_toaster_AI/lib/python3.10/site-packages (from aiohttp<4.0.0,>=3.8.3->langchain) (22.1.0)\n",
      "Requirement already satisfied: multidict<7.0,>=4.5 in /Users/louisaurieres/.pyenv/versions/3.10.6/envs/talking_toaster_AI/lib/python3.10/site-packages (from aiohttp<4.0.0,>=3.8.3->langchain) (6.0.4)\n",
      "Requirement already satisfied: yarl<2.0,>=1.0 in /Users/louisaurieres/.pyenv/versions/3.10.6/envs/talking_toaster_AI/lib/python3.10/site-packages (from aiohttp<4.0.0,>=3.8.3->langchain) (1.9.3)\n",
      "Requirement already satisfied: frozenlist>=1.1.1 in /Users/louisaurieres/.pyenv/versions/3.10.6/envs/talking_toaster_AI/lib/python3.10/site-packages (from aiohttp<4.0.0,>=3.8.3->langchain) (1.4.0)\n",
      "Requirement already satisfied: aiosignal>=1.1.2 in /Users/louisaurieres/.pyenv/versions/3.10.6/envs/talking_toaster_AI/lib/python3.10/site-packages (from aiohttp<4.0.0,>=3.8.3->langchain) (1.3.1)\n",
      "Requirement already satisfied: idna>=2.8 in /Users/louisaurieres/.pyenv/versions/3.10.6/envs/talking_toaster_AI/lib/python3.10/site-packages (from anyio<4.0->langchain) (3.4)\n",
      "Requirement already satisfied: sniffio>=1.1 in /Users/louisaurieres/.pyenv/versions/3.10.6/envs/talking_toaster_AI/lib/python3.10/site-packages (from anyio<4.0->langchain) (1.3.0)\n",
      "Requirement already satisfied: exceptiongroup in /Users/louisaurieres/.pyenv/versions/3.10.6/envs/talking_toaster_AI/lib/python3.10/site-packages (from anyio<4.0->langchain) (1.2.0)\n",
      "Requirement already satisfied: marshmallow<4.0.0,>=3.18.0 in /Users/louisaurieres/.pyenv/versions/3.10.6/envs/talking_toaster_AI/lib/python3.10/site-packages (from dataclasses-json<0.7,>=0.5.7->langchain) (3.20.1)\n",
      "Requirement already satisfied: typing-inspect<1,>=0.4.0 in /Users/louisaurieres/.pyenv/versions/3.10.6/envs/talking_toaster_AI/lib/python3.10/site-packages (from dataclasses-json<0.7,>=0.5.7->langchain) (0.9.0)\n",
      "Requirement already satisfied: jsonpointer>=1.9 in /Users/louisaurieres/.pyenv/versions/3.10.6/envs/talking_toaster_AI/lib/python3.10/site-packages (from jsonpatch<2.0,>=1.33->langchain) (2.4)\n",
      "Requirement already satisfied: typing-extensions>=3.7.4.3 in /Users/louisaurieres/.pyenv/versions/3.10.6/envs/talking_toaster_AI/lib/python3.10/site-packages (from pydantic<3,>=1->langchain) (4.8.0)\n",
      "Requirement already satisfied: charset-normalizer<3,>=2 in /Users/louisaurieres/.pyenv/versions/3.10.6/envs/talking_toaster_AI/lib/python3.10/site-packages (from requests<3,>=2->langchain) (2.1.1)\n",
      "Requirement already satisfied: urllib3<1.27,>=1.21.1 in /Users/louisaurieres/.pyenv/versions/3.10.6/envs/talking_toaster_AI/lib/python3.10/site-packages (from requests<3,>=2->langchain) (1.26.12)\n",
      "Requirement already satisfied: certifi>=2017.4.17 in /Users/louisaurieres/.pyenv/versions/3.10.6/envs/talking_toaster_AI/lib/python3.10/site-packages (from requests<3,>=2->langchain) (2022.9.24)\n",
      "Requirement already satisfied: packaging>=17.0 in /Users/louisaurieres/.pyenv/versions/3.10.6/envs/talking_toaster_AI/lib/python3.10/site-packages (from marshmallow<4.0.0,>=3.18.0->dataclasses-json<0.7,>=0.5.7->langchain) (21.3)\n",
      "Requirement already satisfied: mypy-extensions>=0.3.0 in /Users/louisaurieres/.pyenv/versions/3.10.6/envs/talking_toaster_AI/lib/python3.10/site-packages (from typing-inspect<1,>=0.4.0->dataclasses-json<0.7,>=0.5.7->langchain) (1.0.0)\n",
      "Requirement already satisfied: pyparsing!=3.0.5,>=2.0.2 in /Users/louisaurieres/.pyenv/versions/3.10.6/envs/talking_toaster_AI/lib/python3.10/site-packages (from packaging>=17.0->marshmallow<4.0.0,>=3.18.0->dataclasses-json<0.7,>=0.5.7->langchain) (3.0.9)\n",
      "Requirement already satisfied: pypdf in /Users/louisaurieres/.pyenv/versions/3.10.6/envs/talking_toaster_AI/lib/python3.10/site-packages (3.17.1)\n",
      "Requirement already satisfied: chromadb in /Users/louisaurieres/.pyenv/versions/3.10.6/envs/talking_toaster_AI/lib/python3.10/site-packages (0.4.18)\n",
      "Requirement already satisfied: requests>=2.28 in /Users/louisaurieres/.pyenv/versions/3.10.6/envs/talking_toaster_AI/lib/python3.10/site-packages (from chromadb) (2.28.1)\n",
      "Requirement already satisfied: pydantic>=1.9 in /Users/louisaurieres/.pyenv/versions/3.10.6/envs/talking_toaster_AI/lib/python3.10/site-packages (from chromadb) (1.9.2)\n",
      "Requirement already satisfied: chroma-hnswlib==0.7.3 in /Users/louisaurieres/.pyenv/versions/3.10.6/envs/talking_toaster_AI/lib/python3.10/site-packages (from chromadb) (0.7.3)\n",
      "Requirement already satisfied: fastapi>=0.95.2 in /Users/louisaurieres/.pyenv/versions/3.10.6/envs/talking_toaster_AI/lib/python3.10/site-packages (from chromadb) (0.104.1)\n",
      "Requirement already satisfied: uvicorn>=0.18.3 in /Users/louisaurieres/.pyenv/versions/3.10.6/envs/talking_toaster_AI/lib/python3.10/site-packages (from uvicorn[standard]>=0.18.3->chromadb) (0.24.0.post1)\n",
      "Requirement already satisfied: posthog>=2.4.0 in /Users/louisaurieres/.pyenv/versions/3.10.6/envs/talking_toaster_AI/lib/python3.10/site-packages (from chromadb) (3.0.2)\n",
      "Requirement already satisfied: typing-extensions>=4.5.0 in /Users/louisaurieres/.pyenv/versions/3.10.6/envs/talking_toaster_AI/lib/python3.10/site-packages (from chromadb) (4.8.0)\n",
      "Requirement already satisfied: pulsar-client>=3.1.0 in /Users/louisaurieres/.pyenv/versions/3.10.6/envs/talking_toaster_AI/lib/python3.10/site-packages (from chromadb) (3.3.0)\n",
      "Requirement already satisfied: onnxruntime>=1.14.1 in /Users/louisaurieres/.pyenv/versions/3.10.6/envs/talking_toaster_AI/lib/python3.10/site-packages (from chromadb) (1.16.3)\n",
      "Requirement already satisfied: opentelemetry-api>=1.2.0 in /Users/louisaurieres/.pyenv/versions/3.10.6/envs/talking_toaster_AI/lib/python3.10/site-packages (from chromadb) (1.21.0)\n",
      "Requirement already satisfied: opentelemetry-exporter-otlp-proto-grpc>=1.2.0 in /Users/louisaurieres/.pyenv/versions/3.10.6/envs/talking_toaster_AI/lib/python3.10/site-packages (from chromadb) (1.21.0)\n",
      "Requirement already satisfied: opentelemetry-instrumentation-fastapi>=0.41b0 in /Users/louisaurieres/.pyenv/versions/3.10.6/envs/talking_toaster_AI/lib/python3.10/site-packages (from chromadb) (0.42b0)\n",
      "Requirement already satisfied: opentelemetry-sdk>=1.2.0 in /Users/louisaurieres/.pyenv/versions/3.10.6/envs/talking_toaster_AI/lib/python3.10/site-packages (from chromadb) (1.21.0)\n",
      "Requirement already satisfied: tokenizers>=0.13.2 in /Users/louisaurieres/.pyenv/versions/3.10.6/envs/talking_toaster_AI/lib/python3.10/site-packages (from chromadb) (0.14.0)\n",
      "Requirement already satisfied: pypika>=0.48.9 in /Users/louisaurieres/.pyenv/versions/3.10.6/envs/talking_toaster_AI/lib/python3.10/site-packages (from chromadb) (0.48.9)\n",
      "Requirement already satisfied: tqdm>=4.65.0 in /Users/louisaurieres/.pyenv/versions/3.10.6/envs/talking_toaster_AI/lib/python3.10/site-packages (from chromadb) (4.66.1)\n",
      "Requirement already satisfied: overrides>=7.3.1 in /Users/louisaurieres/.pyenv/versions/3.10.6/envs/talking_toaster_AI/lib/python3.10/site-packages (from chromadb) (7.4.0)\n",
      "Requirement already satisfied: importlib-resources in /Users/louisaurieres/.pyenv/versions/3.10.6/envs/talking_toaster_AI/lib/python3.10/site-packages (from chromadb) (5.10.0)\n",
      "Requirement already satisfied: grpcio>=1.58.0 in /Users/louisaurieres/.pyenv/versions/3.10.6/envs/talking_toaster_AI/lib/python3.10/site-packages (from chromadb) (1.59.3)\n",
      "Requirement already satisfied: bcrypt>=4.0.1 in /Users/louisaurieres/.pyenv/versions/3.10.6/envs/talking_toaster_AI/lib/python3.10/site-packages (from chromadb) (4.1.1)\n",
      "Requirement already satisfied: typer>=0.9.0 in /Users/louisaurieres/.pyenv/versions/3.10.6/envs/talking_toaster_AI/lib/python3.10/site-packages (from chromadb) (0.9.0)\n",
      "Requirement already satisfied: kubernetes>=28.1.0 in /Users/louisaurieres/.pyenv/versions/3.10.6/envs/talking_toaster_AI/lib/python3.10/site-packages (from chromadb) (28.1.0)\n",
      "Requirement already satisfied: tenacity>=8.2.3 in /Users/louisaurieres/.pyenv/versions/3.10.6/envs/talking_toaster_AI/lib/python3.10/site-packages (from chromadb) (8.2.3)\n",
      "Requirement already satisfied: PyYAML>=6.0.0 in /Users/louisaurieres/.pyenv/versions/3.10.6/envs/talking_toaster_AI/lib/python3.10/site-packages (from chromadb) (6.0.1)\n",
      "Requirement already satisfied: mmh3>=4.0.1 in /Users/louisaurieres/.pyenv/versions/3.10.6/envs/talking_toaster_AI/lib/python3.10/site-packages (from chromadb) (4.0.1)\n",
      "Requirement already satisfied: numpy>=1.22.5 in /Users/louisaurieres/.pyenv/versions/3.10.6/envs/talking_toaster_AI/lib/python3.10/site-packages (from chromadb) (1.23.4)\n",
      "Requirement already satisfied: anyio<4.0.0,>=3.7.1 in /Users/louisaurieres/.pyenv/versions/3.10.6/envs/talking_toaster_AI/lib/python3.10/site-packages (from fastapi>=0.95.2->chromadb) (3.7.1)\n",
      "Requirement already satisfied: starlette<0.28.0,>=0.27.0 in /Users/louisaurieres/.pyenv/versions/3.10.6/envs/talking_toaster_AI/lib/python3.10/site-packages (from fastapi>=0.95.2->chromadb) (0.27.0)\n",
      "Requirement already satisfied: certifi>=14.05.14 in /Users/louisaurieres/.pyenv/versions/3.10.6/envs/talking_toaster_AI/lib/python3.10/site-packages (from kubernetes>=28.1.0->chromadb) (2022.9.24)\n",
      "Requirement already satisfied: six>=1.9.0 in /Users/louisaurieres/.pyenv/versions/3.10.6/envs/talking_toaster_AI/lib/python3.10/site-packages (from kubernetes>=28.1.0->chromadb) (1.16.0)\n",
      "Requirement already satisfied: python-dateutil>=2.5.3 in /Users/louisaurieres/.pyenv/versions/3.10.6/envs/talking_toaster_AI/lib/python3.10/site-packages (from kubernetes>=28.1.0->chromadb) (2.8.2)\n",
      "Requirement already satisfied: google-auth>=1.0.1 in /Users/louisaurieres/.pyenv/versions/3.10.6/envs/talking_toaster_AI/lib/python3.10/site-packages (from kubernetes>=28.1.0->chromadb) (2.13.0)\n",
      "Requirement already satisfied: websocket-client!=0.40.0,!=0.41.*,!=0.42.*,>=0.32.0 in /Users/louisaurieres/.pyenv/versions/3.10.6/envs/talking_toaster_AI/lib/python3.10/site-packages (from kubernetes>=28.1.0->chromadb) (1.3.3)\n",
      "Requirement already satisfied: requests-oauthlib in /Users/louisaurieres/.pyenv/versions/3.10.6/envs/talking_toaster_AI/lib/python3.10/site-packages (from kubernetes>=28.1.0->chromadb) (1.3.1)\n",
      "Requirement already satisfied: oauthlib>=3.2.2 in /Users/louisaurieres/.pyenv/versions/3.10.6/envs/talking_toaster_AI/lib/python3.10/site-packages (from kubernetes>=28.1.0->chromadb) (3.2.2)\n",
      "Requirement already satisfied: urllib3<2.0,>=1.24.2 in /Users/louisaurieres/.pyenv/versions/3.10.6/envs/talking_toaster_AI/lib/python3.10/site-packages (from kubernetes>=28.1.0->chromadb) (1.26.12)\n",
      "Requirement already satisfied: coloredlogs in /Users/louisaurieres/.pyenv/versions/3.10.6/envs/talking_toaster_AI/lib/python3.10/site-packages (from onnxruntime>=1.14.1->chromadb) (15.0.1)\n",
      "Requirement already satisfied: flatbuffers in /Users/louisaurieres/.pyenv/versions/3.10.6/envs/talking_toaster_AI/lib/python3.10/site-packages (from onnxruntime>=1.14.1->chromadb) (22.9.24)\n",
      "Requirement already satisfied: packaging in /Users/louisaurieres/.pyenv/versions/3.10.6/envs/talking_toaster_AI/lib/python3.10/site-packages (from onnxruntime>=1.14.1->chromadb) (21.3)\n",
      "Requirement already satisfied: protobuf in /Users/louisaurieres/.pyenv/versions/3.10.6/envs/talking_toaster_AI/lib/python3.10/site-packages (from onnxruntime>=1.14.1->chromadb) (3.19.6)\n",
      "Requirement already satisfied: sympy in /Users/louisaurieres/.pyenv/versions/3.10.6/envs/talking_toaster_AI/lib/python3.10/site-packages (from onnxruntime>=1.14.1->chromadb) (1.12)\n",
      "Requirement already satisfied: deprecated>=1.2.6 in /Users/louisaurieres/.pyenv/versions/3.10.6/envs/talking_toaster_AI/lib/python3.10/site-packages (from opentelemetry-api>=1.2.0->chromadb) (1.2.14)\n",
      "Requirement already satisfied: importlib-metadata<7.0,>=6.0 in /Users/louisaurieres/.pyenv/versions/3.10.6/envs/talking_toaster_AI/lib/python3.10/site-packages (from opentelemetry-api>=1.2.0->chromadb) (6.8.0)\n",
      "Requirement already satisfied: backoff<3.0.0,>=1.10.0 in /Users/louisaurieres/.pyenv/versions/3.10.6/envs/talking_toaster_AI/lib/python3.10/site-packages (from opentelemetry-exporter-otlp-proto-grpc>=1.2.0->chromadb) (2.2.1)\n",
      "Requirement already satisfied: googleapis-common-protos~=1.52 in /Users/louisaurieres/.pyenv/versions/3.10.6/envs/talking_toaster_AI/lib/python3.10/site-packages (from opentelemetry-exporter-otlp-proto-grpc>=1.2.0->chromadb) (1.56.4)\n",
      "Requirement already satisfied: opentelemetry-exporter-otlp-proto-common==1.21.0 in /Users/louisaurieres/.pyenv/versions/3.10.6/envs/talking_toaster_AI/lib/python3.10/site-packages (from opentelemetry-exporter-otlp-proto-grpc>=1.2.0->chromadb) (1.21.0)\n",
      "Requirement already satisfied: opentelemetry-proto==1.21.0 in /Users/louisaurieres/.pyenv/versions/3.10.6/envs/talking_toaster_AI/lib/python3.10/site-packages (from opentelemetry-exporter-otlp-proto-grpc>=1.2.0->chromadb) (1.21.0)\n"
     ]
    },
    {
     "name": "stdout",
     "output_type": "stream",
     "text": [
      "Requirement already satisfied: opentelemetry-instrumentation-asgi==0.42b0 in /Users/louisaurieres/.pyenv/versions/3.10.6/envs/talking_toaster_AI/lib/python3.10/site-packages (from opentelemetry-instrumentation-fastapi>=0.41b0->chromadb) (0.42b0)\n",
      "Requirement already satisfied: opentelemetry-instrumentation==0.42b0 in /Users/louisaurieres/.pyenv/versions/3.10.6/envs/talking_toaster_AI/lib/python3.10/site-packages (from opentelemetry-instrumentation-fastapi>=0.41b0->chromadb) (0.42b0)\n",
      "Requirement already satisfied: opentelemetry-semantic-conventions==0.42b0 in /Users/louisaurieres/.pyenv/versions/3.10.6/envs/talking_toaster_AI/lib/python3.10/site-packages (from opentelemetry-instrumentation-fastapi>=0.41b0->chromadb) (0.42b0)\n",
      "Requirement already satisfied: opentelemetry-util-http==0.42b0 in /Users/louisaurieres/.pyenv/versions/3.10.6/envs/talking_toaster_AI/lib/python3.10/site-packages (from opentelemetry-instrumentation-fastapi>=0.41b0->chromadb) (0.42b0)\n",
      "Requirement already satisfied: setuptools>=16.0 in /Users/louisaurieres/.pyenv/versions/3.10.6/envs/talking_toaster_AI/lib/python3.10/site-packages (from opentelemetry-instrumentation==0.42b0->opentelemetry-instrumentation-fastapi>=0.41b0->chromadb) (69.0.2)\n",
      "Requirement already satisfied: wrapt<2.0.0,>=1.0.0 in /Users/louisaurieres/.pyenv/versions/3.10.6/envs/talking_toaster_AI/lib/python3.10/site-packages (from opentelemetry-instrumentation==0.42b0->opentelemetry-instrumentation-fastapi>=0.41b0->chromadb) (1.14.1)\n",
      "Requirement already satisfied: asgiref~=3.0 in /Users/louisaurieres/.pyenv/versions/3.10.6/envs/talking_toaster_AI/lib/python3.10/site-packages (from opentelemetry-instrumentation-asgi==0.42b0->opentelemetry-instrumentation-fastapi>=0.41b0->chromadb) (3.7.2)\n",
      "Requirement already satisfied: monotonic>=1.5 in /Users/louisaurieres/.pyenv/versions/3.10.6/envs/talking_toaster_AI/lib/python3.10/site-packages (from posthog>=2.4.0->chromadb) (1.6)\n",
      "Requirement already satisfied: charset-normalizer<3,>=2 in /Users/louisaurieres/.pyenv/versions/3.10.6/envs/talking_toaster_AI/lib/python3.10/site-packages (from requests>=2.28->chromadb) (2.1.1)\n",
      "Requirement already satisfied: idna<4,>=2.5 in /Users/louisaurieres/.pyenv/versions/3.10.6/envs/talking_toaster_AI/lib/python3.10/site-packages (from requests>=2.28->chromadb) (3.4)\n",
      "Requirement already satisfied: huggingface_hub<0.17,>=0.16.4 in /Users/louisaurieres/.pyenv/versions/3.10.6/envs/talking_toaster_AI/lib/python3.10/site-packages (from tokenizers>=0.13.2->chromadb) (0.16.4)\n",
      "Requirement already satisfied: click<9.0.0,>=7.1.1 in /Users/louisaurieres/.pyenv/versions/3.10.6/envs/talking_toaster_AI/lib/python3.10/site-packages (from typer>=0.9.0->chromadb) (8.1.3)\n",
      "Requirement already satisfied: h11>=0.8 in /Users/louisaurieres/.pyenv/versions/3.10.6/envs/talking_toaster_AI/lib/python3.10/site-packages (from uvicorn>=0.18.3->uvicorn[standard]>=0.18.3->chromadb) (0.12.0)\n",
      "Requirement already satisfied: httptools>=0.5.0 in /Users/louisaurieres/.pyenv/versions/3.10.6/envs/talking_toaster_AI/lib/python3.10/site-packages (from uvicorn[standard]>=0.18.3->chromadb) (0.6.1)\n",
      "Requirement already satisfied: python-dotenv>=0.13 in /Users/louisaurieres/.pyenv/versions/3.10.6/envs/talking_toaster_AI/lib/python3.10/site-packages (from uvicorn[standard]>=0.18.3->chromadb) (0.20.0)\n",
      "Requirement already satisfied: uvloop!=0.15.0,!=0.15.1,>=0.14.0 in /Users/louisaurieres/.pyenv/versions/3.10.6/envs/talking_toaster_AI/lib/python3.10/site-packages (from uvicorn[standard]>=0.18.3->chromadb) (0.19.0)\n",
      "Requirement already satisfied: watchfiles>=0.13 in /Users/louisaurieres/.pyenv/versions/3.10.6/envs/talking_toaster_AI/lib/python3.10/site-packages (from uvicorn[standard]>=0.18.3->chromadb) (0.21.0)\n",
      "Requirement already satisfied: websockets>=10.4 in /Users/louisaurieres/.pyenv/versions/3.10.6/envs/talking_toaster_AI/lib/python3.10/site-packages (from uvicorn[standard]>=0.18.3->chromadb) (12.0)\n",
      "Requirement already satisfied: sniffio>=1.1 in /Users/louisaurieres/.pyenv/versions/3.10.6/envs/talking_toaster_AI/lib/python3.10/site-packages (from anyio<4.0.0,>=3.7.1->fastapi>=0.95.2->chromadb) (1.3.0)\n",
      "Requirement already satisfied: exceptiongroup in /Users/louisaurieres/.pyenv/versions/3.10.6/envs/talking_toaster_AI/lib/python3.10/site-packages (from anyio<4.0.0,>=3.7.1->fastapi>=0.95.2->chromadb) (1.2.0)\n",
      "Requirement already satisfied: cachetools<6.0,>=2.0.0 in /Users/louisaurieres/.pyenv/versions/3.10.6/envs/talking_toaster_AI/lib/python3.10/site-packages (from google-auth>=1.0.1->kubernetes>=28.1.0->chromadb) (5.2.0)\n",
      "Requirement already satisfied: pyasn1-modules>=0.2.1 in /Users/louisaurieres/.pyenv/versions/3.10.6/envs/talking_toaster_AI/lib/python3.10/site-packages (from google-auth>=1.0.1->kubernetes>=28.1.0->chromadb) (0.2.8)\n",
      "Requirement already satisfied: rsa<5,>=3.1.4 in /Users/louisaurieres/.pyenv/versions/3.10.6/envs/talking_toaster_AI/lib/python3.10/site-packages (from google-auth>=1.0.1->kubernetes>=28.1.0->chromadb) (4.9)\n",
      "Requirement already satisfied: filelock in /Users/louisaurieres/.pyenv/versions/3.10.6/envs/talking_toaster_AI/lib/python3.10/site-packages (from huggingface_hub<0.17,>=0.16.4->tokenizers>=0.13.2->chromadb) (3.12.4)\n",
      "Requirement already satisfied: fsspec in /Users/louisaurieres/.pyenv/versions/3.10.6/envs/talking_toaster_AI/lib/python3.10/site-packages (from huggingface_hub<0.17,>=0.16.4->tokenizers>=0.13.2->chromadb) (2022.10.0)\n",
      "Requirement already satisfied: zipp>=0.5 in /Users/louisaurieres/.pyenv/versions/3.10.6/envs/talking_toaster_AI/lib/python3.10/site-packages (from importlib-metadata<7.0,>=6.0->opentelemetry-api>=1.2.0->chromadb) (3.10.0)\n",
      "Requirement already satisfied: pyparsing!=3.0.5,>=2.0.2 in /Users/louisaurieres/.pyenv/versions/3.10.6/envs/talking_toaster_AI/lib/python3.10/site-packages (from packaging->onnxruntime>=1.14.1->chromadb) (3.0.9)\n",
      "Requirement already satisfied: humanfriendly>=9.1 in /Users/louisaurieres/.pyenv/versions/3.10.6/envs/talking_toaster_AI/lib/python3.10/site-packages (from coloredlogs->onnxruntime>=1.14.1->chromadb) (10.0)\n",
      "Requirement already satisfied: mpmath>=0.19 in /Users/louisaurieres/.pyenv/versions/3.10.6/envs/talking_toaster_AI/lib/python3.10/site-packages (from sympy->onnxruntime>=1.14.1->chromadb) (1.3.0)\n",
      "Requirement already satisfied: pyasn1<0.5.0,>=0.4.6 in /Users/louisaurieres/.pyenv/versions/3.10.6/envs/talking_toaster_AI/lib/python3.10/site-packages (from pyasn1-modules>=0.2.1->google-auth>=1.0.1->kubernetes>=28.1.0->chromadb) (0.4.8)\n",
      "Collecting tiktoken\n",
      "  Downloading tiktoken-0.5.1-cp310-cp310-macosx_11_0_arm64.whl.metadata (6.6 kB)\n",
      "Requirement already satisfied: regex>=2022.1.18 in /Users/louisaurieres/.pyenv/versions/3.10.6/envs/talking_toaster_AI/lib/python3.10/site-packages (from tiktoken) (2022.9.13)\n",
      "Requirement already satisfied: requests>=2.26.0 in /Users/louisaurieres/.pyenv/versions/3.10.6/envs/talking_toaster_AI/lib/python3.10/site-packages (from tiktoken) (2.28.1)\n",
      "Requirement already satisfied: charset-normalizer<3,>=2 in /Users/louisaurieres/.pyenv/versions/3.10.6/envs/talking_toaster_AI/lib/python3.10/site-packages (from requests>=2.26.0->tiktoken) (2.1.1)\n",
      "Requirement already satisfied: idna<4,>=2.5 in /Users/louisaurieres/.pyenv/versions/3.10.6/envs/talking_toaster_AI/lib/python3.10/site-packages (from requests>=2.26.0->tiktoken) (3.4)\n",
      "Requirement already satisfied: urllib3<1.27,>=1.21.1 in /Users/louisaurieres/.pyenv/versions/3.10.6/envs/talking_toaster_AI/lib/python3.10/site-packages (from requests>=2.26.0->tiktoken) (1.26.12)\n",
      "Requirement already satisfied: certifi>=2017.4.17 in /Users/louisaurieres/.pyenv/versions/3.10.6/envs/talking_toaster_AI/lib/python3.10/site-packages (from requests>=2.26.0->tiktoken) (2022.9.24)\n",
      "Downloading tiktoken-0.5.1-cp310-cp310-macosx_11_0_arm64.whl (924 kB)\n",
      "\u001b[2K   \u001b[90m━━━━━━━━━━━━━━━━━━━━━━━━━━━━━━━━━━━━━━━━\u001b[0m \u001b[32m924.4/924.4 kB\u001b[0m \u001b[31m17.2 MB/s\u001b[0m eta \u001b[36m0:00:00\u001b[0ma \u001b[36m0:00:01\u001b[0m\n",
      "\u001b[?25hInstalling collected packages: tiktoken\n",
      "Successfully installed tiktoken-0.5.1\n"
     ]
    }
   ],
   "source": [
    "!pip install langchain\n",
    "!pip install pypdf\n",
    "!pip install chromadb\n",
    "!pip install tiktoken"
   ]
  },
  {
   "cell_type": "code",
   "execution_count": null,
   "id": "201fd9aa",
   "metadata": {},
   "outputs": [],
   "source": []
  }
 ],
 "metadata": {
  "kernelspec": {
   "display_name": "Python 3 (ipykernel)",
   "language": "python",
   "name": "python3"
  },
  "language_info": {
   "codemirror_mode": {
    "name": "ipython",
    "version": 3
   },
   "file_extension": ".py",
   "mimetype": "text/x-python",
   "name": "python",
   "nbconvert_exporter": "python",
   "pygments_lexer": "ipython3",
   "version": "3.10.6"
  },
  "toc": {
   "base_numbering": 1,
   "nav_menu": {},
   "number_sections": true,
   "sideBar": true,
   "skip_h1_title": false,
   "title_cell": "Table of Contents",
   "title_sidebar": "Contents",
   "toc_cell": false,
   "toc_position": {},
   "toc_section_display": true,
   "toc_window_display": false
  }
 },
 "nbformat": 4,
 "nbformat_minor": 5
}
