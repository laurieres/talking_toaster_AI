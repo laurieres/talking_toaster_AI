{
 "cells": [
  {
   "cell_type": "markdown",
   "id": "3c950b5e",
   "metadata": {},
   "source": [
    "# Discover of the YOLOv5 Model"
   ]
  },
  {
   "cell_type": "code",
   "execution_count": 1,
   "id": "0d5aae44",
   "metadata": {
    "ExecuteTime": {
     "end_time": "2023-11-27T15:11:56.999254Z",
     "start_time": "2023-11-27T15:11:20.573921Z"
    }
   },
   "outputs": [
    {
     "name": "stderr",
     "output_type": "stream",
     "text": [
      "YOLOv5 🚀 v7.0-247-g3f02fde Python-3.10.6 torch-2.1.1 CPU\n"
     ]
    },
    {
     "name": "stdout",
     "output_type": "stream",
     "text": [
      "Setup complete ✅ (8 CPUs, 8.0 GB RAM, 273.9/460.4 GB disk)\n"
     ]
    }
   ],
   "source": [
    "!git clone https://github.com/ultralytics/yolov5  # clone\n",
    "%cd yolov5\n",
    "%pip install -qr requirements.txt comet_ml  # install\n",
    "\n",
    "import torch\n",
    "import utils\n",
    "display = utils.notebook_init()  # checks"
   ]
  },
  {
   "cell_type": "code",
   "execution_count": 3,
   "id": "8333bd22",
   "metadata": {
    "ExecuteTime": {
     "end_time": "2023-11-27T15:19:06.272252Z",
     "start_time": "2023-11-27T15:18:52.241825Z"
    }
   },
   "outputs": [
    {
     "name": "stdout",
     "output_type": "stream",
     "text": [
      "\u001b[34m\u001b[1mdetect: \u001b[0mweights=['yolov5s.pt'], source=data/images, data=data/coco128.yaml, imgsz=[640, 640], conf_thres=0.25, iou_thres=0.45, max_det=1000, device=, view_img=False, save_txt=False, save_csv=False, save_conf=False, save_crop=False, nosave=False, classes=None, agnostic_nms=False, augment=False, visualize=False, update=False, project=runs/detect, name=exp, exist_ok=False, line_thickness=3, hide_labels=False, hide_conf=False, half=False, dnn=False, vid_stride=1\n",
      "YOLOv5 🚀 v7.0-247-g3f02fde Python-3.10.6 torch-2.1.1 CPU\n",
      "\n",
      "Downloading https://github.com/ultralytics/yolov5/releases/download/v7.0/yolov5s.pt to yolov5s.pt...\n",
      "100%|██████████████████████████████████████| 14.1M/14.1M [00:00<00:00, 17.0MB/s]\n",
      "\n",
      "Fusing layers... \n",
      "YOLOv5s summary: 213 layers, 7225885 parameters, 0 gradients, 16.4 GFLOPs\n",
      "image 1/2 /Users/louisaurieres/code/laurieres/talking_toaster_AI/model_yolov5/data/images/bus.jpg: 640x480 4 persons, 1 bus, 94.6ms\n",
      "image 2/2 /Users/louisaurieres/code/laurieres/talking_toaster_AI/model_yolov5/data/images/zidane.jpg: 384x640 2 persons, 2 ties, 74.9ms\n",
      "Speed: 0.5ms pre-process, 84.8ms inference, 3.4ms NMS per image at shape (1, 3, 640, 640)\n",
      "Results saved to \u001b[1mruns/detect/exp\u001b[0m\n"
     ]
    }
   ],
   "source": [
    "!python detect.py --weights yolov5s.pt --img 640 --conf 0.25 --source data/images"
   ]
  },
  {
   "cell_type": "code",
   "execution_count": 4,
   "id": "c4b78627",
   "metadata": {
    "ExecuteTime": {
     "end_time": "2023-11-27T15:20:10.123554Z",
     "start_time": "2023-11-27T15:19:25.400538Z"
    }
   },
   "outputs": [
    {
     "name": "stderr",
     "output_type": "stream",
     "text": [
      "100%|████████████████████████████████████████| 780M/780M [00:36<00:00, 22.2MB/s]\n"
     ]
    }
   ],
   "source": [
    "# Download COCO val\n",
    "torch.hub.download_url_to_file('https://ultralytics.com/assets/coco2017val.zip', 'tmp.zip')  # download (780M - 5000 images)\n",
    "!unzip -q tmp.zip -d ../datasets && rm tmp.zip  # unzip"
   ]
  },
  {
   "cell_type": "code",
   "execution_count": 5,
   "id": "43c57b73",
   "metadata": {
    "ExecuteTime": {
     "end_time": "2023-11-27T15:21:01.858342Z",
     "start_time": "2023-11-27T15:20:32.209722Z"
    }
   },
   "outputs": [
    {
     "name": "stdout",
     "output_type": "stream",
     "text": [
      "\u001b[34m\u001b[1mval: \u001b[0mdata=/Users/louisaurieres/code/laurieres/talking_toaster_AI/model_yolov5/data/coco.yaml, weights=['yolov5s.pt'], batch_size=32, imgsz=640, conf_thres=0.001, iou_thres=0.6, max_det=300, task=val, device=, workers=8, single_cls=False, augment=False, verbose=False, save_txt=False, save_hybrid=False, save_conf=False, save_json=True, project=runs/val, name=exp, exist_ok=False, half=True, dnn=False\n",
      "YOLOv5 🚀 v7.0-247-g3f02fde Python-3.10.6 torch-2.1.1 CPU\n",
      "\n",
      "Fusing layers... \n",
      "YOLOv5s summary: 213 layers, 7225885 parameters, 0 gradients, 16.4 GFLOPs\n",
      "\u001b[34m\u001b[1mval: \u001b[0mScanning /Users/louisaurieres/code/laurieres/talking_toaster_AI/datasets/co\u001b[0m\n",
      "\u001b[34m\u001b[1mval: \u001b[0mNew cache created: /Users/louisaurieres/code/laurieres/talking_toaster_AI/datasets/coco/val2017.cache\n",
      "                 Class     Images  Instances          P          R      mAP50   \n",
      "Traceback (most recent call last):\n",
      "  File \"/Users/louisaurieres/code/laurieres/talking_toaster_AI/model_yolov5/val.py\", line 411, in <module>\n",
      "    main(opt)\n",
      "  File \"/Users/louisaurieres/code/laurieres/talking_toaster_AI/model_yolov5/val.py\", line 382, in main\n",
      "    run(**vars(opt))\n",
      "  File \"/Users/louisaurieres/.pyenv/versions/talking_toaster_AI/lib/python3.10/site-packages/torch/utils/_contextlib.py\", line 115, in decorate_context\n",
      "    return func(*args, **kwargs)\n",
      "  File \"/Users/louisaurieres/code/laurieres/talking_toaster_AI/model_yolov5/val.py\", line 210, in run\n",
      "    preds, train_out = model(im) if compute_loss else (model(im, augment=augment), None)\n",
      "  File \"/Users/louisaurieres/.pyenv/versions/talking_toaster_AI/lib/python3.10/site-packages/torch/nn/modules/module.py\", line 1518, in _wrapped_call_impl\n",
      "    return self._call_impl(*args, **kwargs)\n",
      "  File \"/Users/louisaurieres/.pyenv/versions/talking_toaster_AI/lib/python3.10/site-packages/torch/nn/modules/module.py\", line 1527, in _call_impl\n",
      "    return forward_call(*args, **kwargs)\n",
      "  File \"/Users/louisaurieres/code/laurieres/talking_toaster_AI/model_yolov5/models/common.py\", line 527, in forward\n",
      "    y = self.model(im, augment=augment, visualize=visualize) if augment or visualize else self.model(im)\n",
      "  File \"/Users/louisaurieres/.pyenv/versions/talking_toaster_AI/lib/python3.10/site-packages/torch/nn/modules/module.py\", line 1518, in _wrapped_call_impl\n",
      "    return self._call_impl(*args, **kwargs)\n",
      "  File \"/Users/louisaurieres/.pyenv/versions/talking_toaster_AI/lib/python3.10/site-packages/torch/nn/modules/module.py\", line 1527, in _call_impl\n",
      "    return forward_call(*args, **kwargs)\n",
      "  File \"/Users/louisaurieres/code/laurieres/talking_toaster_AI/model_yolov5/models/yolo.py\", line 209, in forward\n",
      "    return self._forward_once(x, profile, visualize)  # single-scale inference, train\n",
      "  File \"/Users/louisaurieres/code/laurieres/talking_toaster_AI/model_yolov5/models/yolo.py\", line 121, in _forward_once\n",
      "    x = m(x)  # run\n",
      "  File \"/Users/louisaurieres/.pyenv/versions/talking_toaster_AI/lib/python3.10/site-packages/torch/nn/modules/module.py\", line 1518, in _wrapped_call_impl\n",
      "    return self._call_impl(*args, **kwargs)\n",
      "  File \"/Users/louisaurieres/.pyenv/versions/talking_toaster_AI/lib/python3.10/site-packages/torch/nn/modules/module.py\", line 1527, in _call_impl\n",
      "    return forward_call(*args, **kwargs)\n",
      "  File \"/Users/louisaurieres/code/laurieres/talking_toaster_AI/model_yolov5/models/common.py\", line 71, in forward_fuse\n",
      "    return self.act(self.conv(x))\n",
      "  File \"/Users/louisaurieres/.pyenv/versions/talking_toaster_AI/lib/python3.10/site-packages/torch/nn/modules/module.py\", line 1518, in _wrapped_call_impl\n",
      "    return self._call_impl(*args, **kwargs)\n",
      "  File \"/Users/louisaurieres/.pyenv/versions/talking_toaster_AI/lib/python3.10/site-packages/torch/nn/modules/module.py\", line 1527, in _call_impl\n",
      "    return forward_call(*args, **kwargs)\n",
      "  File \"/Users/louisaurieres/.pyenv/versions/talking_toaster_AI/lib/python3.10/site-packages/torch/nn/modules/conv.py\", line 460, in forward\n",
      "    return self._conv_forward(input, self.weight, self.bias)\n",
      "  File \"/Users/louisaurieres/.pyenv/versions/talking_toaster_AI/lib/python3.10/site-packages/torch/nn/modules/conv.py\", line 456, in _conv_forward\n",
      "    return F.conv2d(input, weight, bias, self.stride,\n",
      "RuntimeError: \"slow_conv2d_cpu\" not implemented for 'Half'\n"
     ]
    }
   ],
   "source": [
    "# Validate YOLOv5s on COCO val\n",
    "!python val.py --weights yolov5s.pt --data coco.yaml --img 640 --half"
   ]
  },
  {
   "cell_type": "code",
   "execution_count": 8,
   "id": "916e1152",
   "metadata": {
    "ExecuteTime": {
     "end_time": "2023-11-27T15:24:22.540366Z",
     "start_time": "2023-11-27T15:24:22.527511Z"
    }
   },
   "outputs": [],
   "source": [
    "# ! pip install comet_ml  # 1. install\n",
    "# ! export COMET_API_KEY=<Your API Key>  # 2. paste API key\n",
    "# ! python train.py --img 640 --epochs 3 --data coco128.yaml --weights yolov5s.pt  # 3. train\n"
   ]
  },
  {
   "cell_type": "code",
   "execution_count": null,
   "id": "9443e767",
   "metadata": {},
   "outputs": [],
   "source": []
  }
 ],
 "metadata": {
  "kernelspec": {
   "display_name": "Python 3 (ipykernel)",
   "language": "python",
   "name": "python3"
  },
  "language_info": {
   "codemirror_mode": {
    "name": "ipython",
    "version": 3
   },
   "file_extension": ".py",
   "mimetype": "text/x-python",
   "name": "python",
   "nbconvert_exporter": "python",
   "pygments_lexer": "ipython3",
   "version": "3.10.6"
  },
  "toc": {
   "base_numbering": 1,
   "nav_menu": {},
   "number_sections": true,
   "sideBar": true,
   "skip_h1_title": false,
   "title_cell": "Table of Contents",
   "title_sidebar": "Contents",
   "toc_cell": false,
   "toc_position": {},
   "toc_section_display": true,
   "toc_window_display": false
  }
 },
 "nbformat": 4,
 "nbformat_minor": 5
}
