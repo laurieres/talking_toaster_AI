{
 "cells": [
  {
   "cell_type": "code",
   "execution_count": 1,
   "id": "e0b9691e",
   "metadata": {
    "ExecuteTime": {
     "end_time": "2023-11-30T11:07:27.553534Z",
     "start_time": "2023-11-30T11:07:27.406703Z"
    }
   },
   "outputs": [
    {
     "name": "stdout",
     "output_type": "stream",
     "text": [
      "/Users/louisaurieres/code/laurieres/talking_toaster_AI/yolov5_v28112023\r\n"
     ]
    }
   ],
   "source": [
    "!pwd"
   ]
  },
  {
   "cell_type": "code",
   "execution_count": 2,
   "id": "e1d4feb5",
   "metadata": {
    "ExecuteTime": {
     "end_time": "2023-11-30T11:07:51.550253Z",
     "start_time": "2023-11-30T11:07:49.053181Z"
    }
   },
   "outputs": [],
   "source": [
    "from classify.predict_laurieres import run"
   ]
  },
  {
   "cell_type": "code",
   "execution_count": 3,
   "id": "16be3351",
   "metadata": {
    "ExecuteTime": {
     "end_time": "2023-11-30T11:08:05.098510Z",
     "start_time": "2023-11-30T11:08:04.393635Z"
    }
   },
   "outputs": [
    {
     "name": "stderr",
     "output_type": "stream",
     "text": [
      "YOLOv5 🚀 2023-11-29 Python-3.10.6 torch-2.1.1 CPU\n",
      "\n",
      "Fusing layers... \n",
      "Model summary: 117 layers, 5447688 parameters, 0 gradients, 11.4 GFLOPs\n"
     ]
    },
    {
     "name": "stdout",
     "output_type": "stream",
     "text": [
      "Getting most probable item values of your photo..🏋️\n",
      "Getting the names out your photo...🏁\n",
      "This is a stove with a probability of 0.4 🏆\n"
     ]
    },
    {
     "data": {
      "text/plain": [
       "('stove', tensor(0.39744))"
      ]
     },
     "execution_count": 3,
     "metadata": {},
     "output_type": "execute_result"
    }
   ],
   "source": [
    "run(source='oven_test.png')"
   ]
  },
  {
   "cell_type": "code",
   "execution_count": null,
   "id": "9e68ba1c",
   "metadata": {},
   "outputs": [],
   "source": []
  }
 ],
 "metadata": {
  "kernelspec": {
   "display_name": "Python 3 (ipykernel)",
   "language": "python",
   "name": "python3"
  },
  "language_info": {
   "codemirror_mode": {
    "name": "ipython",
    "version": 3
   },
   "file_extension": ".py",
   "mimetype": "text/x-python",
   "name": "python",
   "nbconvert_exporter": "python",
   "pygments_lexer": "ipython3",
   "version": "3.10.6"
  },
  "toc": {
   "base_numbering": 1,
   "nav_menu": {},
   "number_sections": true,
   "sideBar": true,
   "skip_h1_title": false,
   "title_cell": "Table of Contents",
   "title_sidebar": "Contents",
   "toc_cell": false,
   "toc_position": {},
   "toc_section_display": true,
   "toc_window_display": false
  }
 },
 "nbformat": 4,
 "nbformat_minor": 5
}
