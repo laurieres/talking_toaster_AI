{
 "cells": [
  {
   "cell_type": "code",
   "execution_count": 1,
   "id": "46e6d895",
   "metadata": {
    "ExecuteTime": {
     "end_time": "2023-11-30T10:18:49.620495Z",
     "start_time": "2023-11-30T10:18:47.023670Z"
    }
   },
   "outputs": [],
   "source": [
    "from classify.predict_laurieres import run"
   ]
  },
  {
   "cell_type": "code",
   "execution_count": 2,
   "id": "c99e70b4",
   "metadata": {
    "ExecuteTime": {
     "end_time": "2023-11-30T10:18:52.210219Z",
     "start_time": "2023-11-30T10:18:51.513872Z"
    }
   },
   "outputs": [
    {
     "name": "stderr",
     "output_type": "stream",
     "text": [
      "YOLOv5 🚀 2023-11-29 Python-3.10.6 torch-2.1.1 CPU\n",
      "\n",
      "Fusing layers... \n",
      "Model summary: 117 layers, 5447688 parameters, 0 gradients, 11.4 GFLOPs\n"
     ]
    },
    {
     "name": "stdout",
     "output_type": "stream",
     "text": [
      "Getting most probable item values of your photo..🏋️\n",
      "Getting the names out your photo...🏁\n",
      "This is a toaster with a probability of 1.0 🏆\n"
     ]
    }
   ],
   "source": [
    "predictions = run(source='toaster_test_v2.jpg')"
   ]
  },
  {
   "cell_type": "code",
   "execution_count": 3,
   "id": "6e1b072d",
   "metadata": {
    "ExecuteTime": {
     "end_time": "2023-11-30T10:18:53.160259Z",
     "start_time": "2023-11-30T10:18:53.144065Z"
    }
   },
   "outputs": [
    {
     "data": {
      "text/plain": [
       "'toaster'"
      ]
     },
     "execution_count": 3,
     "metadata": {},
     "output_type": "execute_result"
    }
   ],
   "source": [
    "predictions[0]"
   ]
  },
  {
   "cell_type": "code",
   "execution_count": null,
   "id": "2ae3f493",
   "metadata": {},
   "outputs": [],
   "source": [
    "# Starting to work on implementing a photo "
   ]
  }
 ],
 "metadata": {
  "kernelspec": {
   "display_name": "Python 3 (ipykernel)",
   "language": "python",
   "name": "python3"
  },
  "language_info": {
   "codemirror_mode": {
    "name": "ipython",
    "version": 3
   },
   "file_extension": ".py",
   "mimetype": "text/x-python",
   "name": "python",
   "nbconvert_exporter": "python",
   "pygments_lexer": "ipython3",
   "version": "3.10.6"
  },
  "toc": {
   "base_numbering": 1,
   "nav_menu": {},
   "number_sections": true,
   "sideBar": true,
   "skip_h1_title": false,
   "title_cell": "Table of Contents",
   "title_sidebar": "Contents",
   "toc_cell": false,
   "toc_position": {},
   "toc_section_display": true,
   "toc_window_display": false
  }
 },
 "nbformat": 4,
 "nbformat_minor": 5
}
