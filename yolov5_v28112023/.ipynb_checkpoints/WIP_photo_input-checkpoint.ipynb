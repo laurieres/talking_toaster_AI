{
 "cells": [
  {
   "cell_type": "code",
   "execution_count": 1,
   "id": "2f73f5e4",
   "metadata": {
    "ExecuteTime": {
     "end_time": "2023-11-29T14:09:59.629962Z",
     "start_time": "2023-11-29T14:09:56.965009Z"
    }
   },
   "outputs": [],
   "source": [
    "from classify.predict_laurieres import run"
   ]
  },
  {
   "cell_type": "code",
   "execution_count": 12,
   "id": "c29b4dab",
   "metadata": {
    "ExecuteTime": {
     "end_time": "2023-11-29T14:57:04.404716Z",
     "start_time": "2023-11-29T14:57:04.179450Z"
    }
   },
   "outputs": [
    {
     "name": "stderr",
     "output_type": "stream",
     "text": [
      "YOLOv5 🚀 2023-11-29 Python-3.10.6 torch-2.1.1 CPU\n",
      "\n",
      "Fusing layers... \n",
      "Model summary: 117 layers, 5447688 parameters, 0 gradients, 11.4 GFLOPs\n"
     ]
    },
    {
     "name": "stdout",
     "output_type": "stream",
     "text": [
      "Getting most probable item values of your photo..🏋️\n",
      "Getting the names out your photo...🏁\n",
      "This is a toaster with a probability of 1.0 🏆\n"
     ]
    }
   ],
   "source": [
    "predictions = run(source='toaster_test_v2.jpg')"
   ]
  },
  {
   "cell_type": "code",
   "execution_count": 11,
   "id": "f8855ab0",
   "metadata": {
    "ExecuteTime": {
     "end_time": "2023-11-29T14:35:14.449356Z",
     "start_time": "2023-11-29T14:35:14.439258Z"
    }
   },
   "outputs": [
    {
     "data": {
      "text/plain": [
       "'toaster'"
      ]
     },
     "execution_count": 11,
     "metadata": {},
     "output_type": "execute_result"
    }
   ],
   "source": [
    "predictions[0]"
   ]
  },
  {
   "cell_type": "markdown",
   "id": "7a17308f",
   "metadata": {},
   "source": [
    "# Starting to work on implementing a photo 📸"
   ]
  },
  {
   "cell_type": "code",
   "execution_count": 14,
   "id": "9182e92a",
   "metadata": {
    "ExecuteTime": {
     "end_time": "2023-11-29T14:58:23.293707Z",
     "start_time": "2023-11-29T14:58:22.708640Z"
    }
   },
   "outputs": [
    {
     "name": "stderr",
     "output_type": "stream",
     "text": [
      "2023-11-29 15:58:23.292 \n",
      "  \u001b[33m\u001b[1mWarning:\u001b[0m to view this Streamlit app on a browser, run it with the following\n",
      "  command:\n",
      "\n",
      "    streamlit run /Users/louisaurieres/.pyenv/versions/3.10.6/envs/talking_toaster_AI/lib/python3.10/site-packages/ipykernel_launcher.py [ARGUMENTS]\n"
     ]
    }
   ],
   "source": [
    "import streamlit as st\n",
    "\n",
    "img_file_buffer = st.camera_input(\"Take a picture\")\n",
    "\n",
    "if img_file_buffer is not None:\n",
    "    # To read image file buffer as bytes:\n",
    "    bytes_data = img_file_buffer.getvalue()\n",
    "    # Check the type of bytes_data:\n",
    "    # Should output: <class 'bytes'>\n",
    "    st.write(type(bytes_data))"
   ]
  },
  {
   "cell_type": "code",
   "execution_count": null,
   "id": "db9790af",
   "metadata": {},
   "outputs": [],
   "source": []
  }
 ],
 "metadata": {
  "kernelspec": {
   "display_name": "Python 3 (ipykernel)",
   "language": "python",
   "name": "python3"
  },
  "language_info": {
   "codemirror_mode": {
    "name": "ipython",
    "version": 3
   },
   "file_extension": ".py",
   "mimetype": "text/x-python",
   "name": "python",
   "nbconvert_exporter": "python",
   "pygments_lexer": "ipython3",
   "version": "3.10.6"
  },
  "toc": {
   "base_numbering": 1,
   "nav_menu": {},
   "number_sections": true,
   "sideBar": true,
   "skip_h1_title": false,
   "title_cell": "Table of Contents",
   "title_sidebar": "Contents",
   "toc_cell": false,
   "toc_position": {},
   "toc_section_display": true,
   "toc_window_display": false
  }
 },
 "nbformat": 4,
 "nbformat_minor": 5
}
