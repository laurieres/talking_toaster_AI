{
 "cells": [
  {
   "cell_type": "markdown",
   "metadata": {},
   "source": [
    "**Welcome to the model notebook, model has finally been trained on another dataset, but results are quite satisfying with our own input images, now enjoy !**"
   ]
  },
  {
   "cell_type": "markdown",
   "metadata": {
    "heading_collapsed": true,
    "id": "5GYQX3of4QiW"
   },
   "source": [
    "# YOLOv5 Classification Tutorial"
   ]
  },
  {
   "cell_type": "markdown",
   "metadata": {
    "ExecuteTime": {
     "end_time": "2023-11-28T11:34:33.590616Z",
     "start_time": "2023-11-28T11:34:33.575068Z"
    },
    "hidden": true
   },
   "source": [
    "YOLOv5 supports classification tasks too. This is the official YOLOv5 classification notebook tutorial. YOLOv5 is maintained by [Ultralytics](https://github.com/ultralytics/yolov5).\n",
    "\n",
    "This notebook covers:\n",
    "\n",
    "*   Inference with out-of-the-box YOLOv5 classification on ImageNet\n",
    "*  [Training YOLOv5 classification](https://blog.roboflow.com//train-YOLOv5-classification-custom-data) on custom data\n",
    "\n",
    "*Looking for custom data? Explore over 66M community datasets on [Roboflow Universe](https://universe.roboflow.com).*\n",
    "\n",
    "This notebook was created with Google Colab. [Click here](https://colab.research.google.com/drive/1FiSNz9f_nT8aFtDEU3iDAQKlPT8SCVni?usp=sharing) to run it.\n"
   ]
  },
  {
   "cell_type": "markdown",
   "metadata": {
    "heading_collapsed": true,
    "id": "-PJ8vlYXbWtN"
   },
   "source": [
    "# Setup\n",
    "\n",
    "Pull in respective libraries to prepare the notebook environment."
   ]
  },
  {
   "cell_type": "code",
   "execution_count": 1,
   "metadata": {
    "ExecuteTime": {
     "end_time": "2023-11-28T11:37:28.066756Z",
     "start_time": "2023-11-28T11:37:24.009941Z"
    },
    "colab": {
     "base_uri": "https://localhost:8080/"
    },
    "hidden": true,
    "id": "pIM7fOwm8A7l",
    "outputId": "036e278e-c5e9-4999-e9b5-35b1ac3c3657"
   },
   "outputs": [
    {
     "name": "stderr",
     "output_type": "stream",
     "text": [
      "YOLOv5 🚀 v7.0-247-g3f02fde Python-3.10.6 torch-2.1.1 CPU\n"
     ]
    },
    {
     "name": "stdout",
     "output_type": "stream",
     "text": [
      "Setup complete ✅ (8 CPUs, 8.0 GB RAM, 276.9/460.4 GB disk)\n"
     ]
    }
   ],
   "source": [
    "!git clone https://github.com/ultralytics/yolov5  # clone\n",
    "%cd yolov5\n",
    "%pip install -qr requirements.txt  # install\n",
    "\n",
    "import torch\n",
    "import utils\n",
    "display = utils.notebook_init()  # checks"
   ]
  },
  {
   "cell_type": "markdown",
   "metadata": {
    "heading_collapsed": true,
    "id": "i_DrUi2nmF40"
   },
   "source": [
    "# 1. Infer on ImageNet\n",
    "\n",
    "To demonstrate YOLOv5 classification, we'll leverage an already trained model. In this case, we'll download the ImageNet trained models pretrained on ImageNet using YOLOv5 Utils."
   ]
  },
  {
   "cell_type": "code",
   "execution_count": 2,
   "metadata": {
    "ExecuteTime": {
     "end_time": "2023-11-28T11:37:28.070132Z",
     "start_time": "2023-11-28T11:37:28.068072Z"
    },
    "colab": {
     "base_uri": "https://localhost:8080/"
    },
    "hidden": true,
    "id": "o2scLEh6EYnL",
    "outputId": "d305078b-3587-46fd-ede4-e5c0a3203084"
   },
   "outputs": [],
   "source": [
    "from utils.downloads import attempt_download\n",
    "\n",
    "p5 = ['n', 's', 'm', 'l', 'x']  # P5 models\n",
    "cls = [f'{x}-cls' for x in p5]  # classification models\n",
    "\n",
    "for x in cls:\n",
    "    attempt_download(f'weights/yolov5{x}.pt')"
   ]
  },
  {
   "cell_type": "markdown",
   "metadata": {
    "hidden": true,
    "id": "Fn2_a38DmZ2H"
   },
   "source": [
    "Now, we can infer on an example image from the ImageNet dataset."
   ]
  },
  {
   "cell_type": "code",
   "execution_count": 3,
   "metadata": {
    "ExecuteTime": {
     "end_time": "2023-11-28T11:37:28.190408Z",
     "start_time": "2023-11-28T11:37:28.071426Z"
    },
    "hidden": true,
    "id": "L9objhVHnS-h"
   },
   "outputs": [],
   "source": [
    "#Download example image\n",
    "import requests\n",
    "image_url = \"https://i.imgur.com/OczPfaz.jpg\"\n",
    "img_data = requests.get(image_url).content\n",
    "with open('bananas.jpg', 'wb') as handler:\n",
    "    handler.write(img_data)"
   ]
  },
  {
   "cell_type": "code",
   "execution_count": 4,
   "metadata": {
    "ExecuteTime": {
     "end_time": "2023-11-28T11:37:31.520567Z",
     "start_time": "2023-11-28T11:37:28.192480Z"
    },
    "colab": {
     "base_uri": "https://localhost:8080/"
    },
    "hidden": true,
    "id": "qqxF5pHCrLd3",
    "outputId": "f979a3aa-f145-4a66-c820-2c884d1d5d5f"
   },
   "outputs": [
    {
     "name": "stdout",
     "output_type": "stream",
     "text": [
      "\u001b[34m\u001b[1mclassify/predict: \u001b[0mweights=['./weigths/yolov5s-cls.pt'], source=bananas.jpg, data=data/coco128.yaml, imgsz=[224, 224], device=, view_img=False, save_txt=False, nosave=False, augment=False, visualize=False, update=False, project=runs/predict-cls, name=exp, exist_ok=False, half=False, dnn=False, vid_stride=1\n",
      "YOLOv5 🚀 v7.0-247-g3f02fde Python-3.10.6 torch-2.1.1 CPU\n",
      "\n",
      "Fusing layers... \n",
      "Model summary: 117 layers, 5447688 parameters, 0 gradients, 11.4 GFLOPs\n",
      "Getting the top5i values...🏋️\n",
      "[954, 939, 941, 940, 64]\n",
      "Getting the names out of top5i values...🏁\n",
      "This is a banana with a probability of 0.9645997285842896 🏆\n",
      "image 1/1 /Users/louisaurieres/code/laurieres/talking_toaster_AI/yolov5_v28112023/yolov5/bananas.jpg: 224x224 banana 0.96, zucchini 0.00, acorn squash 0.00, spaghetti squash 0.00, green mamba 0.00, 13.1ms\n",
      "Speed: 0.3ms pre-process, 13.1ms inference, 0.7ms NMS per image at shape (1, 3, 224, 224)\n",
      "Results saved to \u001b[1mruns/predict-cls/exp6\u001b[0m\n"
     ]
    }
   ],
   "source": [
    "#Infer using classify/predict.py\n",
    "!python classify/predict.py --weights ./weigths/yolov5s-cls.pt --source bananas.jpg"
   ]
  },
  {
   "cell_type": "markdown",
   "metadata": {
    "hidden": true,
    "id": "yQmj7IXqo3kk"
   },
   "source": [
    "From the output, we can see the ImageNet trained model correctly predicts the class `banana` with `0.95` confidence."
   ]
  },
  {
   "cell_type": "markdown",
   "metadata": {},
   "source": [
    "# Let's go for talking_toaster_AI 🚀"
   ]
  },
  {
   "cell_type": "markdown",
   "metadata": {
    "heading_collapsed": true
   },
   "source": [
    "## Some test with basic images"
   ]
  },
  {
   "cell_type": "code",
   "execution_count": 5,
   "metadata": {
    "ExecuteTime": {
     "end_time": "2023-11-28T11:37:34.272730Z",
     "start_time": "2023-11-28T11:37:31.523606Z"
    },
    "colab": {
     "base_uri": "https://localhost:8080/"
    },
    "collapsed": true,
    "hidden": true,
    "id": "uPL7Gi70bjoX",
    "outputId": "38ac2461-be30-4f9f-85e1-b3e3d81d4270"
   },
   "outputs": [
    {
     "name": "stdout",
     "output_type": "stream",
     "text": [
      "\u001b[34m\u001b[1mclassify/predict: \u001b[0mweights=['./weigths/yolov5s-cls.pt'], source=toaster_test_v2.jpg, data=data/coco128.yaml, imgsz=[224, 224], device=, view_img=False, save_txt=False, nosave=False, augment=False, visualize=False, update=False, project=runs/predict-cls, name=exp, exist_ok=False, half=False, dnn=False, vid_stride=1\n",
      "YOLOv5 🚀 v7.0-247-g3f02fde Python-3.10.6 torch-2.1.1 CPU\n",
      "\n",
      "Fusing layers... \n",
      "Model summary: 117 layers, 5447688 parameters, 0 gradients, 11.4 GFLOPs\n",
      "Getting the top5i values...🏋️\n",
      "[859, 732, 550, 710, 711]\n",
      "Getting the names out of top5i values...🏁\n",
      "This is a toaster with a probability of 0.9952860474586487 🏆\n",
      "image 1/1 /Users/louisaurieres/code/laurieres/talking_toaster_AI/yolov5_v28112023/yolov5/toaster_test_v2.jpg: 224x224 toaster 1.00, Polaroid camera 0.00, espresso machine 0.00, pencil sharpener 0.00, perfume 0.00, 10.8ms\n",
      "Speed: 0.0ms pre-process, 10.8ms inference, 0.0ms NMS per image at shape (1, 3, 224, 224)\n",
      "Results saved to \u001b[1mruns/predict-cls/exp7\u001b[0m\n"
     ]
    }
   ],
   "source": [
    "#Infer using classify/predict.py\n",
    "!python classify/predict.py --weights ./weigths/yolov5s-cls.pt --source toaster_test_v2.jpg"
   ]
  },
  {
   "cell_type": "code",
   "execution_count": 6,
   "metadata": {
    "ExecuteTime": {
     "end_time": "2023-11-28T11:37:37.018666Z",
     "start_time": "2023-11-28T11:37:34.274560Z"
    },
    "collapsed": true,
    "hidden": true
   },
   "outputs": [
    {
     "name": "stdout",
     "output_type": "stream",
     "text": [
      "\u001b[34m\u001b[1mclassify/predict: \u001b[0mweights=['./weigths/yolov5s-cls.pt'], source=oven_test.jpg, data=data/coco128.yaml, imgsz=[224, 224], device=, view_img=False, save_txt=False, nosave=False, augment=False, visualize=False, update=False, project=runs/predict-cls, name=exp, exist_ok=False, half=False, dnn=False, vid_stride=1\n",
      "YOLOv5 🚀 v7.0-247-g3f02fde Python-3.10.6 torch-2.1.1 CPU\n",
      "\n",
      "Fusing layers... \n",
      "Model summary: 117 layers, 5447688 parameters, 0 gradients, 11.4 GFLOPs\n",
      "Getting the top5i values...🏋️\n",
      "[651, 766, 754, 851, 688]\n",
      "Getting the names out of top5i values...🏁\n",
      "This is a microwave oven with a probability of 0.19586317241191864 🏆\n",
      "image 1/1 /Users/louisaurieres/code/laurieres/talking_toaster_AI/yolov5_v28112023/yolov5/oven_test.jpg: 224x224 microwave oven 0.20, rotisserie 0.17, radio 0.08, television 0.07, oscilloscope 0.07, 10.0ms\n",
      "Speed: 0.0ms pre-process, 10.0ms inference, 0.0ms NMS per image at shape (1, 3, 224, 224)\n",
      "Results saved to \u001b[1mruns/predict-cls/exp8\u001b[0m\n"
     ]
    }
   ],
   "source": [
    "!python classify/predict.py --weights ./weigths/yolov5s-cls.pt --source oven_test.jpg"
   ]
  },
  {
   "cell_type": "code",
   "execution_count": 9,
   "metadata": {
    "ExecuteTime": {
     "end_time": "2023-11-28T13:46:57.750808Z",
     "start_time": "2023-11-28T13:46:53.438464Z"
    },
    "collapsed": true,
    "hidden": true
   },
   "outputs": [
    {
     "name": "stdout",
     "output_type": "stream",
     "text": [
      "\u001b[34m\u001b[1mclassify/predict: \u001b[0mweights=['./weigths/yolov5s-cls.pt'], source=water_kettle_test.jpg, data=data/coco128.yaml, imgsz=[224, 224], device=, view_img=False, save_txt=False, nosave=False, augment=False, visualize=False, update=False, project=runs/predict-cls, name=exp, exist_ok=False, half=False, dnn=False, vid_stride=1\n",
      "YOLOv5 🚀 v7.0-247-g3f02fde Python-3.10.6 torch-2.1.1 CPU\n",
      "\n",
      "Fusing layers... \n",
      "Model summary: 117 layers, 5447688 parameters, 0 gradients, 11.4 GFLOPs\n",
      "Getting the top5i values...🏋️\n",
      "[505, 899, 849, 550, 725]\n",
      "Getting the names out of top5i values...🏁\n",
      "This is a coffeemaker with a probability of 0.7376636862754822 🏆\n",
      "image 1/1 /Users/louisaurieres/code/laurieres/talking_toaster_AI/yolov5_v28112023/yolov5/water_kettle_test.jpg: 224x224 coffeemaker 0.74, water jug 0.19, teapot 0.02, espresso machine 0.02, pitcher 0.01, 11.4ms\n",
      "Speed: 0.2ms pre-process, 11.4ms inference, 0.5ms NMS per image at shape (1, 3, 224, 224)\n",
      "Results saved to \u001b[1mruns/predict-cls/exp10\u001b[0m\n"
     ]
    }
   ],
   "source": [
    "!python classify/predict.py --weights ./weigths/yolov5s-cls.pt --source water_kettle_test.jpg"
   ]
  },
  {
   "cell_type": "code",
   "execution_count": 14,
   "metadata": {
    "ExecuteTime": {
     "end_time": "2023-11-28T14:02:40.455959Z",
     "start_time": "2023-11-28T14:02:36.340769Z"
    },
    "collapsed": true,
    "hidden": true
   },
   "outputs": [
    {
     "name": "stdout",
     "output_type": "stream",
     "text": [
      "\u001b[34m\u001b[1mclassify/predict: \u001b[0mweights=['./weigths/yolov5s-cls.pt'], source=water_kettle_test.jpg, data=data/coco128.yaml, imgsz=[224, 224], device=, view_img=False, save_txt=False, nosave=False, augment=False, visualize=False, update=False, name=exp, exist_ok=False, half=False, dnn=False, vid_stride=1\n",
      "YOLOv5 🚀 v7.0-247-g3f02fde Python-3.10.6 torch-2.1.1 CPU\n",
      "\n",
      "Fusing layers... \n",
      "Model summary: 117 layers, 5447688 parameters, 0 gradients, 11.4 GFLOPs\n",
      "Getting the top5i values...🏋️\n",
      "Getting the names out of top5i values...🏁\n",
      "This is a coffeemaker with a probability of 0.7376636862754822 🏆\n"
     ]
    }
   ],
   "source": [
    "!python classify/predict.py --weights ./weigths/yolov5s-cls.pt --source water_kettle_test.jpg"
   ]
  },
  {
   "cell_type": "code",
   "execution_count": 27,
   "metadata": {
    "ExecuteTime": {
     "end_time": "2023-11-28T14:13:54.934172Z",
     "start_time": "2023-11-28T14:13:51.440465Z"
    },
    "collapsed": true,
    "hidden": true
   },
   "outputs": [
    {
     "name": "stdout",
     "output_type": "stream",
     "text": [
      "\u001b[34m\u001b[1mclassify/predict: \u001b[0mweights=['./weigths/yolov5s-cls.pt'], source=water_kettle_test.jpg, data=data/coco128.yaml, imgsz=[224, 224], device=, view_img=False, save_txt=False, nosave=True, augment=False, visualize=False, update=False, exist_ok=False, half=False, dnn=False, vid_stride=1\n",
      "YOLOv5 🚀 v7.0-247-g3f02fde Python-3.10.6 torch-2.1.1 CPU\n",
      "\n",
      "Fusing layers... \n",
      "Model summary: 117 layers, 5447688 parameters, 0 gradients, 11.4 GFLOPs\n",
      "Getting the top5i values...🏋️\n",
      "Getting the names out of top5i values...🏁\n",
      "This is a coffeemaker with a probability of 0.7376636862754822 🏆\n"
     ]
    }
   ],
   "source": [
    "!python classify/predict.py --weights ./weigths/yolov5s-cls.pt --nosave --source water_kettle_test.jpg"
   ]
  },
  {
   "cell_type": "code",
   "execution_count": 8,
   "metadata": {
    "ExecuteTime": {
     "end_time": "2023-11-28T11:37:39.838270Z",
     "start_time": "2023-11-28T11:37:39.835939Z"
    },
    "hidden": true
   },
   "outputs": [],
   "source": [
    "# Line 147 of the code is the key !"
   ]
  },
  {
   "cell_type": "markdown",
   "metadata": {},
   "source": [
    "## Run it as a function to store our data"
   ]
  },
  {
   "cell_type": "code",
   "execution_count": 28,
   "metadata": {
    "ExecuteTime": {
     "end_time": "2023-11-28T14:14:53.418336Z",
     "start_time": "2023-11-28T14:14:53.359714Z"
    }
   },
   "outputs": [],
   "source": [
    "from classify.predict import run"
   ]
  },
  {
   "cell_type": "code",
   "execution_count": 39,
   "metadata": {
    "ExecuteTime": {
     "end_time": "2023-11-28T14:19:36.577973Z",
     "start_time": "2023-11-28T14:19:36.283317Z"
    },
    "collapsed": true
   },
   "outputs": [
    {
     "name": "stderr",
     "output_type": "stream",
     "text": [
      "YOLOv5 🚀 v7.0-247-g3f02fde Python-3.10.6 torch-2.1.1 CPU\n",
      "\n",
      "Fusing layers... \n",
      "Model summary: 117 layers, 5447688 parameters, 0 gradients, 11.4 GFLOPs\n"
     ]
    },
    {
     "name": "stdout",
     "output_type": "stream",
     "text": [
      "Getting the top5i values...🏋️\n",
      "Getting the names out of top5i values...🏁\n",
      "This is a coffeemaker with a probability of 0.7376636862754822 🏆\n"
     ]
    }
   ],
   "source": [
    "res = run(source = 'water_kettle_test.jpg', view_img=False, nosave=True)"
   ]
  },
  {
   "cell_type": "code",
   "execution_count": 44,
   "metadata": {
    "ExecuteTime": {
     "end_time": "2023-11-28T14:35:02.146312Z",
     "start_time": "2023-11-28T14:35:02.135883Z"
    }
   },
   "outputs": [],
   "source": [
    "final_probability = res[1].item()"
   ]
  },
  {
   "cell_type": "code",
   "execution_count": 46,
   "metadata": {
    "ExecuteTime": {
     "end_time": "2023-11-28T14:35:11.597167Z",
     "start_time": "2023-11-28T14:35:11.587364Z"
    }
   },
   "outputs": [
    {
     "data": {
      "text/plain": [
       "0.74"
      ]
     },
     "execution_count": 46,
     "metadata": {},
     "output_type": "execute_result"
    }
   ],
   "source": [
    "round(final_probability,2)"
   ]
  }
 ],
 "metadata": {
  "accelerator": "GPU",
  "colab": {
   "provenance": []
  },
  "gpuClass": "standard",
  "kernelspec": {
   "display_name": "Python 3 (ipykernel)",
   "language": "python",
   "name": "python3"
  },
  "language_info": {
   "codemirror_mode": {
    "name": "ipython",
    "version": 3
   },
   "file_extension": ".py",
   "mimetype": "text/x-python",
   "name": "python",
   "nbconvert_exporter": "python",
   "pygments_lexer": "ipython3",
   "version": "3.10.6"
  },
  "toc": {
   "base_numbering": 1,
   "nav_menu": {},
   "number_sections": true,
   "sideBar": true,
   "skip_h1_title": false,
   "title_cell": "Table of Contents",
   "title_sidebar": "Contents",
   "toc_cell": false,
   "toc_position": {},
   "toc_section_display": true,
   "toc_window_display": false
  }
 },
 "nbformat": 4,
 "nbformat_minor": 1
}
